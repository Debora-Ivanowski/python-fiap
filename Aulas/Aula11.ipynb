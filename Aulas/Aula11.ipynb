{
 "cells": [
  {
   "cell_type": "code",
   "execution_count": null,
   "metadata": {},
   "outputs": [],
   "source": [
    "\n",
    "#Dicionario\n",
    "\n",
    "dados = {'A': [1,2,3,4,5],\n",
    "         'B': ['a', 'b', 'c', 'd', 'e']}\n",
    "dados"
   ]
  },
  {
   "cell_type": "code",
   "execution_count": null,
   "metadata": {},
   "outputs": [],
   "source": [
    "import pandas as pd\n",
    "# Transformar os dados para um formato tabular \n",
    "df = pd.DataFrame(dados)\n",
    "df"
   ]
  },
  {
   "cell_type": "code",
   "execution_count": null,
   "metadata": {},
   "outputs": [],
   "source": [
    "# 1. Crie uma função para contar até n. \n",
    "# 2. Crie uma função para verificar as cores de uma lista_cores = ['azul','verde','amarelo']\n",
    "# 3. Crie uma função para simular uma calculadora de despesas levando em consideração a lista_mes =\n",
    "# ['Janeiro', 'Fevereiro', 'Março']\n",
    "# 4. Crie uma função para monitorar temperatura, solicitando os valores de temperatura p/ o usuário\n",
    "# até o mesmo digitar 999. Depois disso, retorne o valor mínimo, máximo, médio e mediano da temp."
   ]
  },
  {
   "cell_type": "code",
   "execution_count": null,
   "metadata": {},
   "outputs": [],
   "source": [
    "# 1. \n",
    "def contar():\n",
    "    num = int(input('Digite um número:'))\n",
    "    for i in range (num):\n",
    "       print(i)\n",
    "    return i \n",
    "        \n",
    "\n",
    "print(contar())"
   ]
  },
  {
   "cell_type": "code",
   "execution_count": null,
   "metadata": {},
   "outputs": [],
   "source": [
    "def contador():\n",
    "    lista_numeros = []\n",
    "    \n",
    "    for i in range(1, n+1):\n",
    "        lista_numeros.append(i)\n",
    "    return lista_numeros\n",
    "\n",
    "n = int(input('Digite um número:'))\n",
    "contador()"
   ]
  },
  {
   "cell_type": "code",
   "execution_count": null,
   "metadata": {},
   "outputs": [],
   "source": [
    "def contar(n):\n",
    "    i = 1\n",
    "    while i <= n:\n",
    "        print(i)\n",
    "        i += 1 \n",
    "        \n",
    "n = int(input('Digite um numero:'))\n",
    "\n",
    "contar(n)"
   ]
  },
  {
   "cell_type": "code",
   "execution_count": null,
   "metadata": {},
   "outputs": [],
   "source": [
    "# 2. \n",
    "\n",
    "def verificar():\n",
    "    lista = ['azul', 'verde', 'amarelo']\n",
    "    cores = []\n",
    "    for l in lista:\n",
    "        cores.append(l)\n",
    "    return  cores\n",
    "\n",
    "print(verificar())\n"
   ]
  },
  {
   "cell_type": "code",
   "execution_count": null,
   "metadata": {},
   "outputs": [],
   "source": [
    "#3. \n",
    "\n",
    "def calcular_despesas(meses):\n",
    "    total_despesas = 0\n",
    "    for mes in meses:\n",
    "        despesa = float(input(f'Digite o valor da despesa {mes}'))\n",
    "        total_despesas += despesa\n",
    "    print('Total de despesa é:', total_despesas)\n",
    "\n",
    "lista_mes = ['janeiro', 'fevereiro', 'marco']\n",
    "calcular_despesas(lista_mes)\n",
    "    "
   ]
  },
  {
   "cell_type": "code",
   "execution_count": null,
   "metadata": {},
   "outputs": [],
   "source": [
    "# 4. \n",
    "import statistics\n",
    "\n",
    "def monitor_temperatura():\n",
    "    temperaturas = []\n",
    "    while True:\n",
    "        temperatura = int(input('Digite um valor de temperatura:'))\n",
    "        if temperatura == -999:\n",
    "            break\n",
    "        temperaturas.append(temperatura)\n",
    "        \n",
    "    print('Valor mínimo', min(temperaturas))\n",
    "    print('Valor máximo', max(temperaturas))\n",
    "    print('Valor médio', sum(temperaturas)/len(temperaturas))\n",
    "    print(statistics.median(temperaturas))\n",
    "    \n",
    "   \n",
    "monitor_temperatura()"
   ]
  },
  {
   "cell_type": "code",
   "execution_count": null,
   "metadata": {},
   "outputs": [],
   "source": [
    "def operacoes(a,b):\n",
    "    mult = a * b\n",
    "    div = a / b\n",
    "    soma = a + b\n",
    "    sub = a - b\n",
    "    return mult, div, soma, sub\n",
    "\n",
    "print(operacoes(10,2)) # retorno é do tipo tupla\n",
    "\n",
    "mult, div, soma, sub = operacoes(10,5)\n",
    "print(mult, div, soma, sub)\n"
   ]
  },
  {
   "cell_type": "code",
   "execution_count": null,
   "metadata": {},
   "outputs": [],
   "source": [
    "# 1. Crie uma função para calcular o desconto de 5 funcionários de uma empresa.\n",
    "# Utilize a estrutura de repetição e função def para resolver o problema. 5, 10,15, 20 e 25%\n",
    "# Mostre o resultado em uma tupla. \n",
    "\n",
    "def desconto():\n",
    "    salario_5 = 0\n",
    "    salario_10 = 0\n",
    "    salario_15 = 0\n",
    "    salario_20 = 0\n",
    "    salario_25 = 0\n",
    "    for i in range(5):\n",
    "        salario = float(input('Digite seu salário:'))\n",
    "        if salario <= 1000:\n",
    "            salario_5 = salario - (salario*0.05)\n",
    "        elif salario > 1000 and salario <= 2000:\n",
    "            salario_10 = salario - (salario*0.1)\n",
    "        elif salario > 2000 and salario <= 3000:\n",
    "            salario_15 = salario - (salario*0.2)    \n",
    "        elif salario > 3000 and salario <= 4000:\n",
    "            salario_20 = salario - (salario*0.20)  \n",
    "        else:\n",
    "            salario_25 = salario - (salario*0.25)\n",
    "            \n",
    "    return salario_5, salario_10, salario_15, salario_20, salario_25\n",
    "\n",
    "desconto()"
   ]
  },
  {
   "cell_type": "code",
   "execution_count": null,
   "metadata": {},
   "outputs": [],
   "source": [
    "# 2. Crie uma função para controle de notas de alunos. Solicite 5 notas e calcule a média. \n",
    "# Caso a média seja >= 7, mostre que o aluno está aprovado, caso contrário, reprovado. \n",
    "\n",
    "def controle():\n",
    "    media = 0\n",
    "    soma = 0\n",
    "    notas = []\n",
    "    for i in range(1,6):\n",
    "        nota = float(input(f'Aluno, digite a nota {i + 1}:'))\n",
    "        notas.append(nota)\n",
    "        soma+= nota\n",
    "    media = soma / len(notas)\n",
    "    if media >= 7:\n",
    "        print('Aprovado!', notas, media)\n",
    "    else:\n",
    "        print('Reprovado!', notas, media)\n",
    "\n",
    "    #return notas, media\n",
    "\n",
    "controle()\n"
   ]
  },
  {
   "cell_type": "code",
   "execution_count": null,
   "metadata": {},
   "outputs": [],
   "source": [
    "#CP3 Nesse problema, foi usada a função def desconto() para calcular a soma dos produtos digitados pelo cliente. No comeco, foram declaradas todas as variaveis necessárias, bem como a lista e o contador para contar o número de produtos que o cliente digita. Foi usada a estrutura de repeticao while com a condição TRUE, para o cliente ir inserindo seus itens até que ele digite o número -999 para interromper o loop com o break. Após o fim do loop, é feito a soma dos itens e de acordo com o valor dessa soma, é aplicado um codigo de desconto de 10, 20 ou 30%. Ao chamar a funcao desconto(), é mostrado ao cliente qual o codigo aplicado, o valor do desconto na compra, e uma lista com o valor de cada item que ele digitou.\n",
    "\n",
    "# 3. \n",
    "def desconto():\n",
    "    valor_total = 0\n",
    "    desconto_10 = 0\n",
    "    desconto_20 = 0\n",
    "    desconto_30 = 0\n",
    "    produtos = []\n",
    "    i = 1\n",
    "    while True:\n",
    "        valor_produto = float(input(f'Digite o valor do produto {i}: '))\n",
    "        if valor_produto == -999:\n",
    "            break\n",
    "        valor_total += valor_produto\n",
    "        produtos.append(valor_produto)\n",
    "        i += 1\n",
    "    if valor_total <= 100:\n",
    "        codigo_10 = input('Liberado desconto de 10% para sua compra. Digite CODIGO10 para liberar:)')\n",
    "        desconto_10 = valor_total - (valor_total * 0.1)\n",
    "        print(f'Sua compra com o desconto do código de 10% é de R$ {desconto_10} e sua lista é:{produtos}')\n",
    "    elif valor_total > 100 and valor_total <= 500:\n",
    "        codigo_20 = input('Liberado desconto de 20% para sua compra. Digite CODIGO20 para liberar:)')\n",
    "        desconto_20 = valor_total - (valor_total * 0.2)\n",
    "        print(f'Sua compra com o desconto do código de 20% é de R$ {desconto_20} e sua lista é: {produtos}')\n",
    "    else:\n",
    "        codigo_30 = input('Liberado desconto de 30% para sua compra. Digite CODIGO30:)')\n",
    "        desconto_30 = valor_total - (valor_total * 0.3)\n",
    "        print(f'Sua compra com o desconto do código de 30% é de R$ {desconto_30} e sua lista é: {produtos}')\n",
    "\n",
    "desconto()"
   ]
  },
  {
   "cell_type": "code",
   "execution_count": null,
   "metadata": {},
   "outputs": [],
   "source": [
    "#2. \n",
    "def estoque():\n",
    "    produtos = [['mouse', 5], ['teclado', 4]]\n",
    "    \n",
    "    produto = input('Qual produto quer comprar: mouse ou teclado?:')\n",
    "   \n",
    "       \n",
    "    if produto == 'mouse':\n",
    "        quantidade_produto = int(input(f'Qual a quantidade? Limite de 5 {produto}:'))\n",
    "        for i in range(quantidade_produto):\n",
    "            produtos[0][1] = produtos[0][1] - 1\n",
    "        print('Estoque atual:', produtos)\n",
    "    else:\n",
    "        quantidade_produto = int(input(f'Qual a quantidade? Limite de 4 {produto}:'))\n",
    "        for i in range(quantidade_produto):\n",
    "            produtos[1][1] = produtos[1][1] - 1\n",
    "        print('Estoque atual:', produtos)\n",
    "\n",
    "\n",
    "estoque()\n",
    "\n",
    "\n",
    "\n"
   ]
  },
  {
   "cell_type": "code",
   "execution_count": null,
   "metadata": {},
   "outputs": [],
   "source": [
    "def transferencia():\n",
    "    saldo_final = 0\n",
    "    conta_um = 500\n",
    "    conta_dois = 100\n",
    "\n",
    "    valor = float(input('De qual conta deseja transferir 1 ou 2?'))\n",
    "    if valor == 1:\n",
    "        quantidade = float(input('Qual o valor?'))\n",
    "        if quantidade <= conta_um:\n",
    "            saldo_final = conta_um - quantidade\n",
    "            print('Saldo da conta um após a transferencia:',saldo_final)\n",
    "        else:\n",
    "            print('Valor insuficiente!')\n",
    "    else:\n",
    "        quantidade = float(input('Qual o valor?'))\n",
    "        if quantidade <= conta_dois:\n",
    "            saldo_final = conta_dois - quantidade\n",
    "            print('Saldo da conta dois após a transferencia:'saldo_final)\n",
    "        else:\n",
    "            print('Valor insuficiente!')\n",
    "\n",
    "transferencia()\n",
    "    \n",
    "    "
   ]
  }
 ],
 "metadata": {
  "language_info": {
   "name": "python"
  }
 },
 "nbformat": 4,
 "nbformat_minor": 2
}
