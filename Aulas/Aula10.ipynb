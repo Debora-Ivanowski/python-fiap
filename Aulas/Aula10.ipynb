{
 "cells": [
  {
   "cell_type": "code",
   "execution_count": null,
   "metadata": {},
   "outputs": [],
   "source": [
    "#1. Crie um programa que simule uma tabuada apenas de multiplicação\n",
    "#2. Crie um programa que simule uma tabuada apenas de multiplicação e insira em uma lista chamada lista_multi\n",
    "#3. Crie um programa que simule as quatro operações (soma, subtração, multiplicação e divisão) e insira isso em quatro listas. "
   ]
  },
  {
   "cell_type": "code",
   "execution_count": null,
   "metadata": {},
   "outputs": [],
   "source": [
    "num = int(input('Digite o número:'))\n",
    "\n",
    "for i in range(11):\n",
    "    print(f'{num} * {i} = ',num*i)"
   ]
  },
  {
   "cell_type": "code",
   "execution_count": null,
   "metadata": {},
   "outputs": [],
   "source": [
    "for i in range(1,11):\n",
    "    for k in range(1,11):\n",
    "        print(i*k, end=\" \")"
   ]
  },
  {
   "cell_type": "code",
   "execution_count": null,
   "metadata": {},
   "outputs": [],
   "source": [
    "lista_multi = []\n",
    "multi = 0\n",
    "num = int(input('Digite o número:'))\n",
    "\n",
    "for i in range(11):\n",
    "    multi = num * i\n",
    "    lista_multi.append(multi)\n",
    "print(lista_multi)"
   ]
  },
  {
   "cell_type": "code",
   "execution_count": null,
   "metadata": {},
   "outputs": [],
   "source": [
    "lista_mult = []\n",
    "\n",
    "for i in range(1,11):\n",
    "    for k in range(1,11):\n",
    "        lista_mult.append(i*k)"
   ]
  },
  {
   "cell_type": "code",
   "execution_count": null,
   "metadata": {},
   "outputs": [],
   "source": [
    "for i in range(1,11):\n",
    "    for k in range(1,11):\n",
    "        print(i*k, end=\" \")\n",
    "        print(i/k, end= \"\")\n",
    "        print(i+k, end=\"\")\n",
    "        print(i-k, end=\"\")"
   ]
  },
  {
   "cell_type": "code",
   "execution_count": null,
   "metadata": {},
   "outputs": [],
   "source": [
    "lista_multi = []\n",
    "lista_adicao = []\n",
    "lista_subtracao = []\n",
    "lista_divisao = []\n",
    "\n",
    "for i in range(1,11):\n",
    "    for k in range(1,11):\n",
    "        lista_multi.append(i*k)\n",
    "        lista_divisao.append(i/k)\n",
    "        lista_adicao.append(i+k)\n",
    "        lista_subtracao.append(i-k)\n",
    "\n",
    "print(lista_multi)\n",
    "print(lista_adicao)\n",
    "    "
   ]
  },
  {
   "cell_type": "code",
   "execution_count": null,
   "metadata": {},
   "outputs": [],
   "source": [
    "#Criar uma terceira lista com a soma dos elementos da lista 1 e lista 2. \n",
    "\n",
    "lista1 = [1,2,3,4]\n",
    "lista2 = [5,6,7,8]\n",
    "\n",
    "lista_soma = []\n",
    "\n",
    "for k in range(len(lista1)):\n",
    "    lista_soma.append(lista[k] + lista[k])\n",
    "\n",
    "print(lista_soma)"
   ]
  },
  {
   "cell_type": "code",
   "execution_count": null,
   "metadata": {},
   "outputs": [],
   "source": [
    "for i in range(1,4):\n",
    "    for k in range(1,4):\n",
    "        if i == k:\n",
    "            break\n",
    "\n",
    "        print(i, \"*\", k, \"=\", i*k)"
   ]
  },
  {
   "cell_type": "code",
   "execution_count": null,
   "metadata": {},
   "outputs": [],
   "source": [
    "for i in \"abc\":\n",
    "    for k in '123':\n",
    "        print(i+k)"
   ]
  },
  {
   "cell_type": "code",
   "execution_count": null,
   "metadata": {},
   "outputs": [],
   "source": [
    "# crie uma estrutura na qual solicite ao usuário 5 valores utilizando a estrutura while\n",
    "# Depois some os valores inseridos pelo usuário. Depois crie uma estrutura p/ calcular a média dos valores inseridos\n",
    "#pelo usuário. \n",
    "\n",
    "i = 0\n",
    "media = 0\n",
    "soma = 0\n",
    "contador = 1\n",
    "while i < 5:\n",
    "    numero = int(input('Digite o número' + str(contador) + ' :'))\n",
    "    soma += numero\n",
    "    i+= 1\n",
    "    contador += 1\n",
    "media = soma/i\n",
    "print(f'A média é {media}')"
   ]
  },
  {
   "cell_type": "code",
   "execution_count": null,
   "metadata": {},
   "outputs": [],
   "source": [
    "#Crie um programa para solicitar nome, email e senha e, caso o usuário acerte o email e a senha, mostre que ele tera acesso.\n",
    "# caso contrário, dê apenas 2 chances para acertar o email e a senha. \n",
    "\n",
    "\n",
    "i = 0\n",
    "\n",
    "while i < 2:\n",
    "    email = str(input('Digite seu e-mail:'))\n",
    "    senha = str(input('Digite sua senha:'))\n",
    "\n",
    "    if (email == 'diegoc.spv85@gmail.com') and (senha == 'admin'):\n",
    "        print('Login efetuado com sucesso!')\n",
    "        break\n",
    "\n",
    "    i+= 1\n",
    "else:\n",
    "    print('Acesso negado!')\n"
   ]
  },
  {
   "cell_type": "code",
   "execution_count": null,
   "metadata": {},
   "outputs": [],
   "source": [
    "#Crie um programa para solicitar o nome, RG e CEP de 5 usuários e armazene em listas. \n",
    "\n",
    "lista_nomes = []\n",
    "lista_rg = []\n",
    "lista_ceps = []\n",
    "\n",
    "for i in range(5):\n",
    "    nome = input('Digite seu nome:')\n",
    "    lista_nomes.append(nome)\n",
    "    rg = int(input('Digite seu RG:'))\n",
    "    lista_rg.append(rg)\n",
    "    ceps = int(input('Digite seu CEP:'))\n",
    "    lista_ceps.append(ceps)\n",
    "\n",
    "print(lista_nomes)\n",
    "print(lista_rg)\n",
    "print(lista_ceps)"
   ]
  },
  {
   "cell_type": "code",
   "execution_count": null,
   "metadata": {},
   "outputs": [],
   "source": [
    "#FUNÇÕES\n",
    "# Exemplo\n",
    "\n",
    "def soma(x, y):\n",
    "    resultado = x + y\n",
    "    return resultado\n",
    "\n",
    "print(soma(10,5))\n",
    "print(soma(100,100))\n",
    "\n"
   ]
  },
  {
   "cell_type": "code",
   "execution_count": null,
   "metadata": {},
   "outputs": [],
   "source": [
    "# Exemplo\n",
    "\n",
    "def soma(x, y):\n",
    "    resultado = x + y\n",
    "    return resultado\n",
    "\n",
    "print(soma(10,5))\n",
    "print(soma(100,100))"
   ]
  },
  {
   "cell_type": "code",
   "execution_count": null,
   "metadata": {},
   "outputs": [],
   "source": [
    "# Crie funções para fazer operações de soma, subt, div e multi.\n",
    "def soma(x,y):\n",
    "    resultado = x + y\n",
    "    return resultado\n",
    "\n",
    "def subtracao(x,y):\n",
    "    resultado = x - y\n",
    "    return resultado\n",
    "\n",
    "def divisao (x,y):\n",
    "    resultado = x/y\n",
    "    return resultado\n",
    "\n",
    "def multiplicacao(x,y):\n",
    "    resultado = x * y\n",
    "    return resultado\n",
    "\n",
    "print(soma(20, 5))\n",
    "print(subtracao(10,5))\n",
    "print(divisao(10,4))\n",
    "print(multiplicacao(30,10))"
   ]
  },
  {
   "cell_type": "code",
   "execution_count": null,
   "metadata": {},
   "outputs": [],
   "source": [
    "# Ex. 2 - Crie uma função para calcular a área de um quadrado, retangulo, círcula e triangulo\n",
    "\n",
    "def quadrado(x):\n",
    "    resultado = x ** 2\n",
    "    return resultado\n",
    "print(quadrado(10))\n",
    "\n",
    "def retangulo (x,y):\n",
    "    resultado = x * y\n",
    "    return resultado\n",
    "print(retangulo(5,9))\n",
    "\n",
    "def circulo (r):\n",
    "    resultado = (3.14) * r ** 2\n",
    "    return resultado \n",
    "print(circulo(20))\n",
    "\n",
    "def triangulo (b,h):\n",
    "    resultado = (b * h)/ 2 \n",
    "    return resultado\n",
    "print(triangulo(5,10))"
   ]
  },
  {
   "cell_type": "code",
   "execution_count": null,
   "metadata": {},
   "outputs": [],
   "source": [
    "# Ex. 3 - Crie uma função para calcular o volume de um cubo.\n",
    "\n",
    "def cubo(aresta):\n",
    "    resultado = aresta ** 3\n",
    "    return resultado\n",
    "print(cubo(5))\n"
   ]
  },
  {
   "cell_type": "code",
   "execution_count": null,
   "metadata": {},
   "outputs": [],
   "source": [
    "\n",
    "# Ex. 4 - Crie uma função para calcular a área de um terreno (com input p/ o usuário)\n",
    "\n",
    "l = float(input('Digite a largura do terrono:'))\n",
    "c = float(input('Digite o comprimento do terreno:'))\n",
    "def comodo(l, c):\n",
    "    resultado = l * c\n",
    "    return resultado\n",
    "print(comodo(l,c))"
   ]
  },
  {
   "cell_type": "code",
   "execution_count": null,
   "metadata": {},
   "outputs": [],
   "source": [
    "# Ex. 5 - Crie uma função para mostrar se um número é par ou ímpar.\n",
    "\n",
    "def par_impar(x):\n",
    "    if x % 2 == 0:\n",
    "        return 'O número é par'\n",
    "    else:\n",
    "        return 'O número é ímpar'\n",
    "print(par_impar(9))"
   ]
  },
  {
   "cell_type": "code",
   "execution_count": null,
   "metadata": {},
   "outputs": [],
   "source": [
    "# Ex. 6 - # Crie uma função que calcula a soma de valores de uma lista = [10,15,25,30,15]\n",
    "\n",
    "lista = [10,15,25,30,15]\n",
    "\n",
    "def soma(lista):\n",
    "    acumulador = 0\n",
    "    \n",
    "    for l in lista:\n",
    "        acumulador = acumulador + l\n",
    "    return acumulador\n",
    "\n",
    "print(soma(lista))"
   ]
  },
  {
   "cell_type": "code",
   "execution_count": null,
   "metadata": {},
   "outputs": [],
   "source": [
    "# 7. Criar estrutura solicitando 5 valores p/ o usuario. \n",
    "# Criar estrutura para somar os valores inseridos pelo usuário. \n",
    "# Criar estrutura para calcular a média dos valores inseridos pelo usuário.\n",
    "\n",
    "\n",
    "\n",
    "def lista_num ():\n",
    "    lista_num = []\n",
    "\n",
    "    for i in range (5):\n",
    "        numeros = int(input('Digite o número:'))\n",
    "        lista_num.append(numeros)\n",
    "    return lista_num\n",
    "    \n",
    "# na func soma não entende q recebe como parametro a lista anterior. É como criasse outra\n",
    "# Poderia deixar o parametro de soma vazio\n",
    "\n",
    "lista = lista_num()   \n",
    "def soma (lista):\n",
    "    acumulador = 0\n",
    "    for l in lista:\n",
    "        acumulador += l \n",
    "    \n",
    "    \n",
    "    return acumulador \n",
    "\n",
    "print(lista)\n",
    "print(soma(lista))"
   ]
  },
  {
   "cell_type": "code",
   "execution_count": null,
   "metadata": {},
   "outputs": [],
   "source": [
    "#Outra forma de resolver o 7\n",
    "\n",
    "def lista_valores(x):\n",
    "    lista = []\n",
    "    for i in range(x):\n",
    "        valor = int(input('Digite um número:'))\n",
    "        lista.append(valor)\n",
    "        \n",
    "    return lista\n",
    "\n",
    "print(lista_valores(3))"
   ]
  },
  {
   "cell_type": "code",
   "execution_count": null,
   "metadata": {},
   "outputs": [],
   "source": [
    "#9 Crie uma estrutura p/ solicitar 3 valores de salários. Em seguida, crie uma porcentagem de\n",
    "# desconto p/ cada salário e retorne o valor do salário com o respectivo desconto. \n",
    "#media,soma,lista = func()\n",
    "\n",
    "\n"
   ]
  }
 ],
 "metadata": {
  "language_info": {
   "name": "python"
  }
 },
 "nbformat": 4,
 "nbformat_minor": 2
}
