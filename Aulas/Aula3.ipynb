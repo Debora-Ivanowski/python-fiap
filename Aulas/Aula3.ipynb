{
 "cells": [
  {
   "cell_type": "code",
   "execution_count": null,
   "metadata": {},
   "outputs": [],
   "source": [
    "nome = input('Digite seu nome:')\n",
    "segundo_nome = input('Digite seu segundo nome:')\n",
    "terceiro_nome = input('Digite seu terceiro nome:')\n",
    "\n",
    "print(f\"Seu nome é {nome.capitalize()} {segundo_nome.capitalize()} {terceiro_nome.capitalize()}\")"
   ]
  },
  {
   "cell_type": "code",
   "execution_count": null,
   "metadata": {},
   "outputs": [],
   "source": [
    "nome = input('Digite seu nome:')\n",
    "segundo_nome = input('Digite seu segundo nome:')\n",
    "terceiro_nome = input('Digite seu terceiro nome:')\n",
    "cpf = int(input('Digite os 11 dígitos do seu CPF:'))\n",
    "cidade = input('Digite sua cidade:')\n",
    "\n",
    "print(nome[0].upper() + nome[1:] + ' ' + segundo_nome[0].upper() + segundo_nome[1:] + ' ' + terceiro_nome[0].upper() + terceiro_nome[1:])\n",
    "print('Seu CPF é:', cpf)"
   ]
  },
  {
   "cell_type": "code",
   "execution_count": null,
   "metadata": {},
   "outputs": [],
   "source": [
    "#Crie uma estrutura com 5 inputs, solicitando primeiro, seguno e terceiro nome, deixando a primeira letra de cada nome maiúsculo. Depois cria duas variáveis solicitando o CPF e a sua cidade. \n",
    "\n",
    "\n",
    "cidade = input('Digite sua cidade:')\n",
    "if ' ' in cidade:\n",
    "    nova_cidade = cidade.split(' ')\n",
    "    nova_cidade[0][0].upper() + nova_cidade[0][1:]\n",
    "    nova_cidade[1][0].upper() + nova_cidade[1][1:]\n",
    "    print(nova_cidade[0][0].upper() + nova_cidade[0][1:] + ' ' + nova_cidade[1][0].upper() + nova_cidade[1][1:] )\n",
    "else:\n",
    "    print(cidade[0].upper() + cidade[1:])\n"
   ]
  }
 ],
 "metadata": {
  "language_info": {
   "name": "python"
  }
 },
 "nbformat": 4,
 "nbformat_minor": 2
}
