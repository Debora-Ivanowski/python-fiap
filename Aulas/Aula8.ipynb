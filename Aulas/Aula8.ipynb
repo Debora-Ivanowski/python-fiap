{
 "cells": [
  {
   "cell_type": "code",
   "execution_count": null,
   "metadata": {},
   "outputs": [],
   "source": [
    "#ESTRUTURA DE REPETIÇÃO FOR"
   ]
  },
  {
   "cell_type": "code",
   "execution_count": null,
   "metadata": {},
   "outputs": [],
   "source": [
    "lista = ['a','b','c','d']\n",
    "cont = 0\n",
    "while 'a' in lista:\n",
    "    print('Achou o a')"
   ]
  },
  {
   "cell_type": "code",
   "execution_count": null,
   "metadata": {},
   "outputs": [],
   "source": [
    "i = 1\n",
    "while i < 6:\n",
    "  print(i)\n",
    "  if i == 3:\n",
    "    break\n",
    "  i += 1"
   ]
  },
  {
   "cell_type": "code",
   "execution_count": null,
   "metadata": {},
   "outputs": [],
   "source": [
    "i = 0\n",
    "while i < 6:\n",
    "  i += 1\n",
    "  if i == 3:\n",
    "    continue\n",
    "  print(i)"
   ]
  },
  {
   "cell_type": "code",
   "execution_count": null,
   "metadata": {},
   "outputs": [],
   "source": [
    "soma = 0\n",
    "\n",
    "for i in range(1,4):\n",
    "    soma += i\n",
    "    print('A soma dos números de 1 a 3 é:', soma)"
   ]
  },
  {
   "cell_type": "code",
   "execution_count": null,
   "metadata": {},
   "outputs": [],
   "source": [
    "sub = 0\n",
    "\n",
    "for i in range(1,4):\n",
    "    sub -= i\n",
    "    print(i)\n",
    "print(sub)"
   ]
  },
  {
   "cell_type": "code",
   "execution_count": null,
   "metadata": {},
   "outputs": [],
   "source": [
    "mult = 1\n",
    "# não preciso declarar o i fora da estrutura, pois ela será usada dentro da estrutura\n",
    "for i in range(1,4):\n",
    "    mult *= i\n",
    "    print(mult)"
   ]
  },
  {
   "cell_type": "code",
   "execution_count": null,
   "metadata": {},
   "outputs": [],
   "source": [
    "for i in range(1,11,2):\n",
    "    print(i)"
   ]
  },
  {
   "cell_type": "code",
   "execution_count": null,
   "metadata": {},
   "outputs": [],
   "source": [
    "for i in range(1,11):\n",
    "    print(i)\n",
    "    if i == 5:\n",
    "        break"
   ]
  },
  {
   "cell_type": "code",
   "execution_count": null,
   "metadata": {},
   "outputs": [],
   "source": [
    "lista_car = ['a','b','c','d','e']\n",
    "for k in lista_car:\n",
    "    print(k)\n",
    "    if k == 'c':\n",
    "        break"
   ]
  },
  {
   "cell_type": "code",
   "execution_count": null,
   "metadata": {},
   "outputs": [],
   "source": [
    "for k in range(1,10):\n",
    "    if k %2 == 0:\n",
    "        continue\n",
    "    print(k)"
   ]
  },
  {
   "cell_type": "code",
   "execution_count": null,
   "metadata": {},
   "outputs": [],
   "source": [
    "lista_car = ['a','b','c','d','e']\n",
    "\n",
    "for k in lista_car:\n",
    "    if k == 'c':\n",
    "        continue\n",
    "    print(k)"
   ]
  },
  {
   "cell_type": "code",
   "execution_count": null,
   "metadata": {},
   "outputs": [],
   "source": [
    "#Exercícios \n",
    "#1. Crie uma estrutura para parar na letra a. \n",
    "#2. Crie uma estrutura para não mostrar as vogais o. "
   ]
  },
  {
   "cell_type": "code",
   "execution_count": null,
   "metadata": {},
   "outputs": [],
   "source": [
    "lista = ['g','h','s','t','a','b']\n",
    "\n",
    "for k in lista:\n",
    "    print(k)\n",
    "    if k == 'a':\n",
    "        break"
   ]
  },
  {
   "cell_type": "code",
   "execution_count": null,
   "metadata": {},
   "outputs": [],
   "source": [
    "#continue não é para imprimir. Break pode.\n",
    "palavra = 'Hoje tem aula de Python'\n",
    "\n",
    "for k in palavra:\n",
    "    if k == 'o':\n",
    "        continue \n",
    "    print(k) #se colocar o print antes, vai imprimir antes de verificar"
   ]
  },
  {
   "cell_type": "code",
   "execution_count": null,
   "metadata": {},
   "outputs": [],
   "source": [
    "#Crie um programa para solicitar ao usuário que digite algumas palavras. Em seguida, cria uma estrutura para quebrar/parar em uma palavra selecionada pelo usuário que foi digitada anteriormente.\n",
    "\n",
    "palavras = []\n",
    "\n",
    "for i in range(3):\n",
    "    palavra = input('Digite uma palavra:')\n",
    "    palavras.append(palavra)\n",
    "\n",
    "print(palavras)\n",
    "\n",
    "palavra_chave = input('Digite uma palavra digitada anteriormente:')\n",
    "\n",
    "for n in palavras:\n",
    "    if n in palavra_chave:\n",
    "        break\n",
    "    print(n)\n"
   ]
  },
  {
   "cell_type": "code",
   "execution_count": null,
   "metadata": {},
   "outputs": [],
   "source": [
    "palavra = 'hOje é diA dE happy hOur'\n",
    "vogais = 'aeiouAEIOU'\n",
    "contador = 0\n",
    "\n",
    "for i in palavra:\n",
    "    if i in vogais:\n",
    "        contador += 1\n",
    "print(contador)\n"
   ]
  },
  {
   "cell_type": "code",
   "execution_count": null,
   "metadata": {},
   "outputs": [],
   "source": [
    "palavras = ['Hoje', 'é', 'dia', 'de', 'happy']\n",
    "\n",
    "palavras.append('hour')\n",
    "\n",
    "texto = ' '.join(palavras)\n",
    "texto\n"
   ]
  },
  {
   "cell_type": "code",
   "execution_count": null,
   "metadata": {},
   "outputs": [],
   "source": [
    "texto = str(input('Digite um texto:'))\n",
    "palavras = texto.split(' ')\n",
    "palavra_chave = str(input('Digite a palavra desejada do texto:'))\n",
    "\n",
    "for palavras in texto:\n",
    "    print(k)\n",
    "    if palavra_chave in palavras:\n",
    "        break\n"
   ]
  },
  {
   "cell_type": "code",
   "execution_count": null,
   "metadata": {},
   "outputs": [],
   "source": [
    "cidades=[]\n",
    "\n",
    "for i in range(0,3):\n",
    "    \n",
    "    cidade = input('Digite a primeira cidade')\n",
    "    resultado = cidades.append(cidade)\n",
    "    \n",
    "\n",
    "print(cidades)"
   ]
  },
  {
   "cell_type": "code",
   "execution_count": null,
   "metadata": {},
   "outputs": [],
   "source": [
    "#Calcular a media entre duas notas solicitando 3 vezes a nota 1 e 2\n",
    "\n",
    "for i in range(3):\n",
    "    nota1 = float(input('Digite a primeira:'))\n",
    "    nota2 = float(input('Digita a segunda'))\n",
    "\n",
    "    media = (nota1 + nota2) / 2\n",
    "    print('A média é:', media)"
   ]
  },
  {
   "cell_type": "code",
   "execution_count": null,
   "metadata": {},
   "outputs": [],
   "source": [
    "# Crie um programa para solicitar ao usuário uma palavra. Em seguida, crie uma estrutura para não mostrar uma palavra selecionada pelo usuário. \n",
    "\n",
    "palavras = []\n",
    "\n",
    "for i in range(3):\n",
    "    palavra = input('Digite uma palavra:')\n",
    "    palavras.append(palavra)\n",
    "\n",
    "print(palavras)\n",
    "\n",
    "palavra_chave = input('Digite uma palavra digitada anteriormente:')\n",
    "\n",
    "for n in palavras:\n",
    "    if n in palavra_chave:\n",
    "        continue\n",
    "    print(n)"
   ]
  },
  {
   "cell_type": "code",
   "execution_count": null,
   "metadata": {},
   "outputs": [],
   "source": [
    "#5. Crie um programa para solicitar nome, sobrenome, CPF e RG de quatro pessoas.\n",
    "\n",
    "\n",
    "pessoas = [[],[],[],[]]\n",
    "cont = 0\n",
    "\n",
    "for i in range(4):\n",
    "    nome = input('Digite seu nome:')\n",
    "    pessoas[cont].append(nome)\n",
    "    sobrenome = input('Digite seu sobrenome:')\n",
    "    pessoas[cont].append(sobrenome)\n",
    "    cpf = int(input('Digite seu CPF:'))\n",
    "    pessoas[cont].append(cpf)\n",
    "    rg = int(input('Digite seu RG:'))\n",
    "    pessoas[cont].append(rg)\n",
    "    cont += 1\n",
    "\n",
    "print(pessoas)\n"
   ]
  },
  {
   "cell_type": "code",
   "execution_count": null,
   "metadata": {},
   "outputs": [],
   "source": [
    "#Crie um programa para somar os valores de duas listas \n",
    "# #https://pythontutor.com/python-compiler.html#mode=edit\n",
    "\n",
    "lista1 = [10,20,30]\n",
    "lista2 = [5,10,15]\n",
    "\n",
    "somar = [lista1[i] + lista2[i] for i in range(len(lista1))]\n",
    "somar\n"
   ]
  }
 ],
 "metadata": {
  "language_info": {
   "name": "python"
  }
 },
 "nbformat": 4,
 "nbformat_minor": 2
}
