{
 "cells": [
  {
   "cell_type": "code",
   "execution_count": null,
   "metadata": {},
   "outputs": [],
   "source": [
    "letra = str(input('Digite uma letra')).lower()\n",
    "palavra = str(input('Digite uma palavra:')).lower()\n",
    "\n",
    "if letra in palavra:\n",
    "    print(letra)\n",
    "else:\n",
    "    print('Não está na palavra')"
   ]
  },
  {
   "cell_type": "code",
   "execution_count": null,
   "metadata": {},
   "outputs": [],
   "source": [
    "lista = ['segunda', 'terça', 'quarta', 'quinta', 'sexta']\n",
    "\n",
    "dia = str(input('Digite o dia da semana:'))\n",
    "if dia in lista:\n",
    "    print('Dia está na lista!')"
   ]
  },
  {
   "cell_type": "code",
   "execution_count": null,
   "metadata": {},
   "outputs": [],
   "source": [
    "nome = str(input('Digite seu nome:'))\n",
    "idade = int(input(nome + ', Digite sua idade:'))"
   ]
  },
  {
   "cell_type": "code",
   "execution_count": null,
   "metadata": {},
   "outputs": [],
   "source": [
    "#Estrutura condicional aninhada\n",
    "#Ex. 1\n",
    "idade = int(input('Insira sua idade:'))\n",
    "total_compra = float(input('Insira o valor da sua compra:'))\n",
    "\n",
    "if idade >= 65:\n",
    "    if total_compra >= 100:\n",
    "        print('Você terá 10% de desconto')\n",
    "    else:\n",
    "        print('Você não terá direito ao desconto por causa do valor da compra.')\n",
    "else:\n",
    "    print('Você está fora da faixa de idade para ter o desconto.')"
   ]
  },
  {
   "cell_type": "code",
   "execution_count": null,
   "metadata": {},
   "outputs": [],
   "source": [
    "# Ex.2 - Crie um programa para solicitar idade do carro e marca do carro. Se a faixa de idade estiver\n",
    "# entre 2013 e 2015, solicite a marca do carro e, caso a marca do carro seja Volvo, imprima\n",
    "# o carro é Volvo e foi fabricado entre 2013 e 2015. Carro entre os anos 2013 e 2015\n",
    "# mas não é Volvo. Seu carro está fora da faixa dos anos. \n",
    "\n",
    "idade = int(input('Digite o ano de fabricação do carro:'))\n",
    "\n",
    "\n",
    "\n",
    "if 2013 <= idade <= 2015:\n",
    "    marca = str(input('Qual a marca do carro?'))\n",
    "    if marca == 'Volvo':\n",
    "        print('O carro é Volvo e foi fabricado entre 2013 e 2015')\n",
    "    else:\n",
    "        print('O carro está dentro da faixa de anos, mas não é Volvo')\n",
    "else:\n",
    "    print('O carro está fora da faixa de idade!')\n"
   ]
  },
  {
   "cell_type": "code",
   "execution_count": null,
   "metadata": {},
   "outputs": [],
   "source": [
    "# Ex. 3 - Verificação de horário do dia e temperatura para sugerir uma atividade\n",
    "# 6 <= hora < 12h e a temperatura > 20, é hora de fazer uma caminhada no parque. \n",
    "# Hora de tomar um café da manhã. \n",
    "# 12 <= hora < 18h e a temperatura > 25, que tal um piquenique?. \n",
    "# Hora de almoçar. \n",
    "# hora de relaxar em casa.\n",
    "\n",
    "hora = int(input('Digite a hora do dia:'))\n",
    "temperatura = int(input('Digte a temperatura atual:'))\n",
    "\n",
    "if  6 <= hora < 12:\n",
    "    if temperatura > 20:\n",
    "        print('É hora de fazer uma caminhada no parque')\n",
    "    else:\n",
    "        print('É hora de tomar um café da manhã!')\n",
    "elif 12 <= hora < 18: #se ja tiver um if, colocar um elif, senão nao saberá a prioridade. \n",
    "    if temperatura > 25:\n",
    "        print('Que tal um piquenique?')\n",
    "    else:\n",
    "        print('É hora de almoçar')\n",
    "else:\n",
    "    print('É hora de relaxar em casa!')"
   ]
  },
  {
   "cell_type": "code",
   "execution_count": null,
   "metadata": {},
   "outputs": [],
   "source": [
    "# ex.4 - Verificação de status de um pedido com base na idade do pedido e no tipo de cliente \n",
    "# idade < 7 e cliente VIP - Seu pedido está sendo preparado para entrega expressa!\n",
    "# else - seu pedido será entregue em breve.\n",
    "# 7 < idade < 14 e cliente VIP - Seu pedido está em processo de embalagem especial \n",
    "# else - seu pedido está sendo preparado\n",
    "# else - seu pedido está a caminho. \n",
    "\n",
    "idade_pedido = int(input('Há quanto tempo você é cliente:'))\n",
    "tipo_cliente = str(input('Você é cliente VIP? Sim ou Não'))\n",
    "\n",
    "if idade_pedido < 7:\n",
    "    if tipo_cliente == 'Sim':\n",
    "        print('Seu pedido está sendo preparado para entrega expressa!')\n",
    "    else:\n",
    "        print('Seu pedido será entregue em breve.')\n",
    "elif 7 < idade_pedido < 14:\n",
    "    if tipo_cliente == 'Sim':\n",
    "        print('Seu pedido está em processo de embalagem especial')\n",
    "    else:\n",
    "        print('Seu pedido está sendo preparado')\n",
    "else:\n",
    "    print('Seu pedido está a caminho')"
   ]
  }
 ],
 "metadata": {
  "language_info": {
   "name": "python"
  }
 },
 "nbformat": 4,
 "nbformat_minor": 2
}
