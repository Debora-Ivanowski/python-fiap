{
 "cells": [
  {
   "cell_type": "code",
   "execution_count": null,
   "metadata": {},
   "outputs": [],
   "source": [
    "i = 0\n",
    "while i <= 5:\n",
    "    print(i)\n",
    "    i += 5 "
   ]
  },
  {
   "cell_type": "code",
   "execution_count": null,
   "metadata": {},
   "outputs": [],
   "source": [
    "#Fatorial \n",
    "\n",
    "resultado = 1\n",
    "numero = 0\n",
    "\n",
    "while numero < 5:\n",
    "    numero += 1 \n",
    "    resultado *= numero \n",
    "    print(resultado)\n"
   ]
  },
  {
   "cell_type": "code",
   "execution_count": null,
   "metadata": {},
   "outputs": [],
   "source": [
    "# https://pythontutor.com/\n",
    "contador = 10\n",
    "\n",
    "while contador > 0:\n",
    "    contador -= 1\n",
    "    print(contador)"
   ]
  },
  {
   "cell_type": "code",
   "execution_count": null,
   "metadata": {},
   "outputs": [],
   "source": [
    "# Ex.1 - Crie um progama pra solicita temperaturas em Farenheit e converter para Celsius. Enquanto for diferente  de alguma\n",
    "#coisa, continue esta estrutura. \n",
    "\n",
    "temp_celsius = 0\n",
    "temp_farenheit =  float(input('Digite um valor de temperatura:'))\n",
    "\n",
    "while temp_farenheit != 0:\n",
    "    temp_celsius = (5/9) * (temp_farenheit - 32)\n",
    "    print(f\"{temp_farenheit}°F - {temp_celsius} °C\")\n",
    "    temp_farenheit = float(input(\"Insira um valor de temperatura\"))"
   ]
  },
  {
   "cell_type": "code",
   "execution_count": null,
   "metadata": {},
   "outputs": [],
   "source": [
    "#Crie um programa para solicitar um número para o usuário, crie uma variável\n",
    "#contador = 1, utilize a estrutura while para contar até que o contador seja menor\n",
    "#ou igual a numero, print contador, \n",
    "#incrimente contador em +1\n",
    "\n",
    "contador = 1\n",
    "numero = int(input('Digite um número:'))\n",
    "\n",
    "while contador <= numero:\n",
    "    print(contador)\n",
    "    contador += 1\n"
   ]
  },
  {
   "cell_type": "code",
   "execution_count": null,
   "metadata": {},
   "outputs": [],
   "source": [
    "#Crie um programa pra contar de 0 té 10, depois crie um programa para contagem\n",
    "#decrescente.\n",
    "\n",
    "contador = 0\n",
    "\n",
    "while contador <= 10:\n",
    "    print(contador)\n",
    "    contador += 1"
   ]
  },
  {
   "cell_type": "code",
   "execution_count": null,
   "metadata": {},
   "outputs": [],
   "source": [
    "contador = 10\n",
    "\n",
    "while contador >= 0:\n",
    "    print(contador)\n",
    "    contador -= 1"
   ]
  },
  {
   "cell_type": "code",
   "execution_count": null,
   "metadata": {},
   "outputs": [],
   "source": [
    "lista = [1, 4, 6]\n",
    "lista_letras = ['a', 'b', 'c', 'd']\n",
    "\n",
    "print(len(lista))\n",
    "print(len(lista_letras))"
   ]
  },
  {
   "cell_type": "code",
   "execution_count": null,
   "metadata": {},
   "outputs": [],
   "source": [
    "letra = str(input('Digite uma palavra ou texto:'))\n",
    "\n",
    "print('A quantidade de caracteres é:', len(letra))"
   ]
  },
  {
   "cell_type": "code",
   "execution_count": null,
   "metadata": {},
   "outputs": [],
   "source": [
    "frase = input('Digite uma frase:')\n",
    "\n",
    "contagem = 0\n",
    "indice = 0\n",
    "\n",
    "while indice < len(frase):\n",
    "    if frase[indice] == 'a':\n",
    "        contagem += 1\n",
    "    indice += 1\n",
    "print(f'A letra A aparece, {contagem}, vezes na frase')"
   ]
  },
  {
   "cell_type": "code",
   "execution_count": null,
   "metadata": {},
   "outputs": [],
   "source": [
    "#https://www.multitracks.com.br/products/chartbuilder/\n",
    "\n",
    "#Crie um programa para solicitar ao usuário um nome e traga apenas a última letra do nome.\n",
    "\n",
    "nome = input(\"Insira seu nome:\")\n",
    "ultima_letra = nome[len(nome)-1]\n",
    "print(ultima_letra)\n"
   ]
  },
  {
   "cell_type": "code",
   "execution_count": null,
   "metadata": {},
   "outputs": [],
   "source": [
    "numeros = [10,5,30]\n",
    "\n",
    "soma = 0\n",
    "indice = 0\n",
    "\n",
    "while indice < len(numeros):\n",
    "    soma += numeros[indice]\n",
    "    indice += 1\n",
    "\n",
    "media = soma / len(numeros)\n",
    "\n",
    "print(soma)\n",
    "print(media)"
   ]
  }
 ],
 "metadata": {
  "language_info": {
   "name": "python"
  }
 },
 "nbformat": 4,
 "nbformat_minor": 2
}
