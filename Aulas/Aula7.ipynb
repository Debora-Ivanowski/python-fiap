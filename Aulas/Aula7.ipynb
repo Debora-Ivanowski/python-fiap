{
 "cells": [
  {
   "cell_type": "code",
   "execution_count": null,
   "metadata": {},
   "outputs": [],
   "source": [
    "#Crie um programa para calcular a media ponderada de cinco notas. Pense em como pode ser calculado a média ponderada, lembrando que existem pesos que podem influenciar mais ou menos.\n",
    "\n",
    "n1 = float(input('Digite a primeira nota:'))\n",
    "p1 = float(input('Digite o pesoa da n1:'))\n",
    "n2 = float(input('Digite a segunda nota:'))\n",
    "p2 = float(input('Digite o pesoa da n2:'))\n",
    "n3 = float(input('Digite a terceira nota:'))\n",
    "p3 = float(input('Digite o pesoa da n3:'))\n",
    "n4 = float(input('Digite a quarta nota:'))\n",
    "p4 = float(input('Digite o pesoa da n4:'))\n",
    "n5 = float(input('Digite a quinta nota:'))\n",
    "p5 = float(input('Digite o pesoa da n5:'))\n",
    "soma_pesos = p1+p2+p3+p4+p5\n",
    "media_ponderada = (p1*n1 + p2*n2 + p3*n3 + p4*n4 + p5*n5)/(soma_pesos)\n",
    "\n",
    "print(f'A média ponderada das notas digitadas é de: {media_ponderada}' + '.')"
   ]
  },
  {
   "cell_type": "code",
   "execution_count": null,
   "metadata": {},
   "outputs": [],
   "source": [
    "#Crie um programa para solicitar ao usuário um e-mail, senha e um código de segurança para acessar a sua conta.\n",
    "\n",
    "email = str(input('Digite seu e-mail:'))\n",
    "\n",
    "\n",
    "\n",
    "if email == 'diegoc.spv85@gmail.com':\n",
    "    senha = str(input('Digite a sua senha:'))\n",
    "    if senha == 'f12345':\n",
    "        codigo = str(input('Digite seu código de segurança:'))  \n",
    "        if codigo == '12345':\n",
    "            print('Login efetuado com sucesso!')\n",
    "        else:\n",
    "            print('Código inválido. Tente novamente!')\n",
    "    else:\n",
    "        print('Senha incorreta. Digite novamente!')\n",
    "else:\n",
    "    print('E-mail não cadastrado. Tente novamente!')"
   ]
  },
  {
   "cell_type": "code",
   "execution_count": null,
   "metadata": {},
   "outputs": [],
   "source": [
    "#Crie um programa pra calcular o imposto a ser pago  no ano em função da faixa de salário do funcionário\n",
    "\n",
    "salario_mensal = float(input('Digite seu salário mensal:'))\n",
    "salario_anual = salario_mensal * 12\n",
    "\n",
    "if salario_mensal < 1412:\n",
    "    imposto = salario_anual * 0.075\n",
    "    print(f'Seu imposto a pagar é de R$ {imposto}')\n",
    "    print(salario_anual)\n",
    "elif salario_mensal >= 1412.01 and salario_mensal < 2666.68:\n",
    "    salario_anual = salario_mensal * 12\n",
    "    imposto = salario_anual * 0.09\n",
    "    print(salario_anual)\n",
    "    print(f'Seu imposto a pagar é de R$ {imposto}')\n",
    "elif salario_mensal >= 2666.69 and salario < 4000.03:\n",
    "    imposto = salario_anual * .012\n",
    "    print(f'Seu imposto a pagar é de R$ {imposto}')\n",
    "elif salario_mensal >= 4000.04 and salario < 7786.02:\n",
    "    imposto = salario_anual * 0.14\n",
    "    print(f'Seu imposto a pagar é de R$ {imposto}')\n",
    "else:\n",
    "    imposto = salario_anual * 0.275\n",
    "    print(f'Seu imposto a pagar é de R$ {imposto}')\n"
   ]
  },
  {
   "cell_type": "code",
   "execution_count": null,
   "metadata": {},
   "outputs": [],
   "source": [
    "#Crie um programa para facilitar o trabalho para uma empresa que trabalha com convenio. Se a pessoa contratou convenio tempo menor ou igual a 6 meses, poderá fazer apenas exames de sangue. Se a pessoa contratou convenio com mais de 6 meses e até 12 meses, poderá fazer apenas exames de sangue e radiografias. Se a pessoa contratou convenio com mais de 12 mes, poderá fazer exames mais complexos, porém, será necessário solicitar permissão para o convenio. "
   ]
  },
  {
   "cell_type": "code",
   "execution_count": null,
   "metadata": {},
   "outputs": [],
   "source": []
  }
 ],
 "metadata": {
  "language_info": {
   "name": "python"
  }
 },
 "nbformat": 4,
 "nbformat_minor": 2
}
