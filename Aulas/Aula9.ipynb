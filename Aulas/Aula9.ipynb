{
 "cells": [
  {
   "cell_type": "code",
   "execution_count": null,
   "metadata": {},
   "outputs": [],
   "source": [
    "#CP 2: Estrutura de repetição com for e while em listas. \n",
    "\n",
    "lista_numerica = [1,2,3,4,5]\n",
    "lista_letras = ['a','b','c','d']\n",
    "\n",
    "for i in lista_numerica:\n",
    "    print (i)\n",
    "for i in lista_letras:\n",
    "    print(i)"
   ]
  },
  {
   "cell_type": "code",
   "execution_count": null,
   "metadata": {},
   "outputs": [],
   "source": [
    "lista_letras = ['a','b','c','d']\n",
    "\n",
    "for i in lista_letras:\n",
    "    if i=='c':\n",
    "        continue\n",
    "    print(i)"
   ]
  },
  {
   "cell_type": "code",
   "execution_count": null,
   "metadata": {},
   "outputs": [],
   "source": [
    "soma = 0\n",
    "\n",
    "for i in range(1,6):\n",
    "    soma += i\n",
    "print(soma)"
   ]
  },
  {
   "cell_type": "code",
   "execution_count": null,
   "metadata": {},
   "outputs": [],
   "source": [
    "lista_letras = ['a','b','c','d']\n",
    "for i in lista_letras:\n",
    "    print(i)\n",
    "    if i =='c':\n",
    "        break"
   ]
  },
  {
   "cell_type": "code",
   "execution_count": null,
   "metadata": {},
   "outputs": [],
   "source": [
    "lista_original=[1,2,3,4,5]\n",
    "\n",
    "nova_lista = []\n",
    "\n",
    "for k in lista_original:\n",
    "    nova_lista .append(k*2)\n",
    "print(nova_lista)"
   ]
  },
  {
   "cell_type": "code",
   "execution_count": null,
   "metadata": {},
   "outputs": [],
   "source": [
    "#Crie um programa para solicitar nomes e inserir os respectivos nomes em uma lista. \n",
    "\n",
    "nomes = []\n",
    "quantidade_nomes = int(input('Digite a quantidade de nomes desejada:'))\n",
    "\n",
    "for i in range(quantidade_nomes):\n",
    "    nome = str(input('Digite o nome:'))\n",
    "    nomes.append(nome)\n",
    "print(nomes)"
   ]
  },
  {
   "cell_type": "code",
   "execution_count": null,
   "metadata": {},
   "outputs": [],
   "source": [
    "nomes = []\n",
    "quantidade_nomes = int(input('Digite a quantidade de nomes desejada:'))\n",
    "i = 0\n",
    "while i < quantidade_nomes:\n",
    "    nome = str(input('Digite o nome:'))\n",
    "    nomes.append(nome)\n",
    "    i += 1\n",
    "print(nomes)"
   ]
  },
  {
   "cell_type": "code",
   "execution_count": null,
   "metadata": {},
   "outputs": [],
   "source": [
    "contador += 1\n",
    "if nome ='ana':\n",
    "    break"
   ]
  },
  {
   "cell_type": "code",
   "execution_count": null,
   "metadata": {},
   "outputs": [],
   "source": [
    "lista_nomes = []\n",
    "contador = 0\n",
    "while contador < 3:\n",
    "    nome = input('Digite um nome')\n",
    "    lista_nomes.append(nome)\n",
    "    contador += 1\n",
    "    \n",
    "print(lista_nomes)"
   ]
  },
  {
   "cell_type": "code",
   "execution_count": null,
   "metadata": {},
   "outputs": [],
   "source": [
    "palavras = ['python', 'javascript']\n",
    "\n",
    "for i in palavras:\n",
    "    for letra in i:\n",
    "        print(letra)\n"
   ]
  },
  {
   "cell_type": "code",
   "execution_count": null,
   "metadata": {},
   "outputs": [],
   "source": [
    "for i in range(1,5):\n",
    "    for k in range(1,5):\n",
    "        print(i*k, end=\" \")"
   ]
  }
 ],
 "metadata": {
  "language_info": {
   "name": "python"
  }
 },
 "nbformat": 4,
 "nbformat_minor": 2
}
